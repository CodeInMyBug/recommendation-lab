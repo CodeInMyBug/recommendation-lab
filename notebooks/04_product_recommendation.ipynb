{
 "cells": [
  {
   "cell_type": "markdown",
   "id": "e0f59c84-31b4-48a6-90c2-1891d9ffebc2",
   "metadata": {},
   "source": [
    "# 📁 04_product_recommendation.ipynb\n",
    "\n",
    "# ## 1. Introduction\n",
    "\"\"\"\n",
    "Build a simple recommender system using cosine similarity.\n",
    "Goal: Recommend similar products to users based on their past preferences.\n",
    "\"\"\""
   ]
  },
  {
   "cell_type": "code",
   "execution_count": 2,
   "id": "bff12f18-277b-4e1b-96f6-0495e4c87eac",
   "metadata": {},
   "outputs": [
    {
     "data": {
      "text/html": [
       "<div>\n",
       "<style scoped>\n",
       "    .dataframe tbody tr th:only-of-type {\n",
       "        vertical-align: middle;\n",
       "    }\n",
       "\n",
       "    .dataframe tbody tr th {\n",
       "        vertical-align: top;\n",
       "    }\n",
       "\n",
       "    .dataframe thead th {\n",
       "        text-align: right;\n",
       "    }\n",
       "</style>\n",
       "<table border=\"1\" class=\"dataframe\">\n",
       "  <thead>\n",
       "    <tr style=\"text-align: right;\">\n",
       "      <th></th>\n",
       "      <th>user_id</th>\n",
       "      <th>product_id</th>\n",
       "      <th>rating</th>\n",
       "    </tr>\n",
       "  </thead>\n",
       "  <tbody>\n",
       "    <tr>\n",
       "      <th>0</th>\n",
       "      <td>U0000</td>\n",
       "      <td>P000</td>\n",
       "      <td>1</td>\n",
       "    </tr>\n",
       "    <tr>\n",
       "      <th>1</th>\n",
       "      <td>U0000</td>\n",
       "      <td>P017</td>\n",
       "      <td>5</td>\n",
       "    </tr>\n",
       "    <tr>\n",
       "      <th>2</th>\n",
       "      <td>U0000</td>\n",
       "      <td>P015</td>\n",
       "      <td>4</td>\n",
       "    </tr>\n",
       "    <tr>\n",
       "      <th>3</th>\n",
       "      <td>U0000</td>\n",
       "      <td>P001</td>\n",
       "      <td>4</td>\n",
       "    </tr>\n",
       "    <tr>\n",
       "      <th>4</th>\n",
       "      <td>U0000</td>\n",
       "      <td>P008</td>\n",
       "      <td>1</td>\n",
       "    </tr>\n",
       "  </tbody>\n",
       "</table>\n",
       "</div>"
      ],
      "text/plain": [
       "  user_id product_id  rating\n",
       "0   U0000       P000       1\n",
       "1   U0000       P017       5\n",
       "2   U0000       P015       4\n",
       "3   U0000       P001       4\n",
       "4   U0000       P008       1"
      ]
     },
     "execution_count": 2,
     "metadata": {},
     "output_type": "execute_result"
    }
   ],
   "source": [
    "# ## 2. Imports\n",
    "import pandas as pd\n",
    "from sklearn.metrics.pairwise import cosine_similarity\n",
    "from sklearn.preprocessing import LabelEncoder\n",
    "import numpy as np\n",
    "\n",
    "# ## 3. Load Dataset\n",
    "df = pd.read_csv(\"product_recommendation_data.csv\")\n",
    "df.head()"
   ]
  },
  {
   "cell_type": "code",
   "execution_count": 3,
   "id": "299004b2-c3e2-4b91-87f1-ec7bc4bd94ee",
   "metadata": {},
   "outputs": [],
   "source": [
    "# ## 4. Pivot Table\n",
    "pivot = df.pivot_table(index='user_id', columns='product_id', values='rating', fill_value=0)\n"
   ]
  },
  {
   "cell_type": "code",
   "execution_count": 4,
   "id": "6e74162f-2b8b-4682-ae68-f3773bf4e252",
   "metadata": {},
   "outputs": [],
   "source": [
    "# ## 5. Cosine Similarity\n",
    "similarity_matrix = cosine_similarity(pivot)\n",
    "sim_df = pd.DataFrame(similarity_matrix, index=pivot.index, columns=pivot.index)"
   ]
  },
  {
   "cell_type": "code",
   "execution_count": 5,
   "id": "2d91257f-9f1a-44d5-bcb3-e24fb63e58dd",
   "metadata": {},
   "outputs": [],
   "source": [
    "# ## 6. Recommend Function\n",
    "def recommend(user_id, n=3):\n",
    "    similar_users = sim_df[user_id].sort_values(ascending=False)[1:4]\n",
    "    similar_user_ids = similar_users.index.tolist()\n",
    "    \n",
    "    recommended = df[df['user_id'].isin(similar_user_ids)]\n",
    "    user_rated = df[df['user_id'] == user_id]['product_id'].tolist()\n",
    "    \n",
    "    top_products = (\n",
    "        recommended[~recommended['product_id'].isin(user_rated)]\n",
    "        .groupby('product_id')['rating'].mean()\n",
    "        .sort_values(ascending=False)\n",
    "        .head(n)\n",
    "        .index.tolist()\n",
    "    )\n",
    "    return top_products"
   ]
  },
  {
   "cell_type": "code",
   "execution_count": 6,
   "id": "c729ac6f-2865-4a73-b3b4-703123435b90",
   "metadata": {},
   "outputs": [
    {
     "data": {
      "text/plain": [
       "['P004', 'P006', 'P019']"
      ]
     },
     "execution_count": 6,
     "metadata": {},
     "output_type": "execute_result"
    }
   ],
   "source": [
    "# ## 7. Example\n",
    "recommend(\"U0001\")"
   ]
  },
  {
   "cell_type": "markdown",
   "id": "7720aa2b-cde8-46eb-ab2d-95d9ab80f839",
   "metadata": {},
   "source": [
    "# ## 8. Business Insight\n",
    "\"\"\"\n",
    "This simple user-user collaborative filtering system recommends products that similar users liked.\n",
    "Useful for:\n",
    "- Upselling to engaged users\n",
    "- Cold-start alternatives based on similar profiles\n",
    "- Personalized product lists\n",
    "\n",
    "Next step: Use LightFM or Matrix Factorization for scalable, sparse-friendly recommendations.\n",
    "\"\"\""
   ]
  }
 ],
 "metadata": {
  "kernelspec": {
   "display_name": "Python 3 (ipykernel)",
   "language": "python",
   "name": "python3"
  },
  "language_info": {
   "codemirror_mode": {
    "name": "ipython",
    "version": 3
   },
   "file_extension": ".py",
   "mimetype": "text/x-python",
   "name": "python",
   "nbconvert_exporter": "python",
   "pygments_lexer": "ipython3",
   "version": "3.11.7"
  }
 },
 "nbformat": 4,
 "nbformat_minor": 5
}
